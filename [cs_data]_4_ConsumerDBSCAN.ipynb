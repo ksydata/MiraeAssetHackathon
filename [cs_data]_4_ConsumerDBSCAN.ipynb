{
  "nbformat": 4,
  "nbformat_minor": 0,
  "metadata": {
    "colab": {
      "provenance": []
    },
    "kernelspec": {
      "name": "python3",
      "display_name": "Python 3"
    },
    "language_info": {
      "name": "python"
    }
  },
  "cells": [
    {
      "cell_type": "code",
      "source": [
        "# 코랩에 구글 드라이브 마운트\n",
        "from google.colab import drive\n",
        "drive.mount(\"/content/drive\")\n",
        "import warnings\n",
        "# warnings.filterwarnings(action = \"ignore\")\n",
        "\n",
        "# 데이터 처리 모듈\n",
        "import pandas as pd\n",
        "import datetime\n",
        "from dateutil.relativedelta import relativedelta\n",
        "import time\n",
        "from tqdm import tqdm\n",
        "\n",
        "# 멀티프로세싱\n",
        "import multiprocessing as mp\n",
        "from multiprocessing import Pool\n",
        "\n",
        "# 척도 변환 모듈(표준화, 정규화, 로버스트 정규화, 원핫인코딩(범주형에서 더미변수로 변환) 등)\n",
        "from sklearn.preprocessing import *\n",
        "\n",
        "# 결측값 관측 모듈\n",
        "import missingno as msno\n",
        "\n",
        "# 시각화 모듈\n",
        "import matplotlib.pyplot as plt\n",
        "from matplotlib.pyplot import figure\n",
        "import seaborn as sns\n",
        "from matplotlib.ticker import ScalarFormatter\n",
        "\n",
        "# 배열, 행렬 연산 모듈\n",
        "import numpy as np\n",
        "\n",
        "# 데이터 분할 모듈(훈련용 / 검증용 / 시험용)\n",
        "from sklearn.model_selection import train_test_split\n",
        "\n",
        "# 통계적 가설검정 및 계량화 모듈\n",
        "# https://youtu.be/FtWEZw3kUho\n",
        "import statsmodels.api as sm\n",
        "import statsmodels.tsa.api as smt\n",
        "from scipy.interpolate import UnivariateSpline\n",
        "\n",
        "# 타입 어노테이션 모듈\n",
        "from typing import *\n",
        "\n",
        "# 시간 관련 모듈\n",
        "from tqdm import tqdm\n",
        "from time import strptime, sleep\n",
        "\n",
        "# 웹크롤링 / 스크래핑 관련 모듈\n",
        "import requests\n",
        "import io\n",
        "import zipfile\n",
        "from bs4 import BeautifulSoup\n",
        "from xml.etree import ElementTree as ET\n",
        "\n",
        "# 결측값 대체 및 특징 추출\n",
        "from sklearn.impute import KNNImputer\n",
        "from sklearn.decomposition import PCA, SparsePCA\n",
        "\n",
        "# 연관규칙 분석 실행 모듈\n",
        "from mlxtend.preprocessing import TransactionEncoder\n",
        "from mlxtend.frequent_patterns import apriori, association_rules\n",
        "import networkx as nx\n",
        "\n",
        "# 한글폰트 설정\n",
        "import matplotlib\n",
        "import matplotlib.font_manager as fm\n",
        "import matplotlib.pyplot as plt\n",
        "import matplotlib.font_manager as fm\n",
        "from pathlib import Path\n",
        "import matplotlib.patches as mpatches"
      ],
      "metadata": {
        "colab": {
          "base_uri": "https://localhost:8080/"
        },
        "id": "bJniyziwuJMW",
        "outputId": "985a11e6-fdf4-4ba7-fed5-e77474935df5"
      },
      "execution_count": 1,
      "outputs": [
        {
          "output_type": "stream",
          "name": "stdout",
          "text": [
            "Mounted at /content/drive\n"
          ]
        }
      ]
    },
    {
      "cell_type": "markdown",
      "source": [
        "**6개의 투자심리 측정변수**\n",
        "* NYSE의 거래회전율\n",
        "* 배당금 프리미엄\n",
        "* 폐쇄형 펀드의 할인\n",
        "율\n",
        "* IPO의 첫 거래일 평균 수익률\n",
        "* 채권 대비 주식발행 비중\n",
        "* 투자심리선은 해당 종목이 과매수 또는 과매도 상태인지를 파악함으로써 투자자 심리가 낙관적인지 비관적인지를 판단하는데 사용하며, 일반적으로 75% 이상이면 해당 주식이 과매수 상태, 25% 이하이면 과매도 상태로 해석\n",
        "\n",
        "**6개 변수를 이용하여 월별 투자 심리지수를 도출**\n",
        "* ```개인투자자의 매수매도 불균형(BSI, buying and selling imbalance of individual investors)```\n",
        "\n",
        "* ```주식형 펀드 유입액(FUND, stock fund flow ratio)```\n",
        "\n",
        "  예금이나 채권형 펀드에서 위험한 주식형 펀드로 자금이 이동하는 현상\n",
        "\n",
        "* ```소비자 기대지수(CEI, customer expectation index)```\n",
        "  \n",
        "  통계청에서 발간하는 소비자 기대지수는 경기 순환을 예측하는 지수로 본 연구에서는 자연로그를 취하여 사용(경기선행지수 중 1)\n",
        "\n",
        "  (i) 현재생활형편, 생활형편전망, 가계수입전망, 소비지출전망, 현재경기판단, 향후경기전망 6개의 개별지수의 합산지수 산출\n",
        "\n",
        "  (ii) 표준화하고, 6개 구성지수 표준편차의 중간값을 가중치로 곱하여 소비자 심리지수 산출\n",
        "\n",
        "  (iii) 100보다 높으면 주관적 기대심리 과거 평균 대비 낙관적으로 해석(기준치 상회 여부 및 지수 자체의 증감 중요)\n",
        "\n",
        "* ```주식투자 예치금(CD, customer’s deposit for stock investment)```\n",
        "  \n",
        "  주식투자를 위해 예치한 금액이 얼마나 변동하였는지를 측정하여 추가적으로 고려한다. 주식투자 예치금은 주식을 매수하기 위한 일시적인 예치금으로 투자자들이 주식시장에 대해 보다 낙관적인 견해를 가지고 있을수록 증가\n",
        "\n",
        "* ```상장주식 거래회전율(TURN, turnover ratio)```\n",
        "\n",
        "* ```주식 자금조달 비율(SR, equity shares issued ratio)```\n",
        "\n",
        "  주식과 채권을 합계한 총 자금 조달금액에서 주식발행을 통해 조달한 자금의 비중을 사용"
      ],
      "metadata": {
        "id": "9HL3V0rTtRdb"
      }
    },
    {
      "cell_type": "code",
      "execution_count": 2,
      "metadata": {
        "colab": {
          "base_uri": "https://localhost:8080/"
        },
        "id": "v37QVAGMtNqb",
        "outputId": "dc544254-8e8b-4f97-d727-1a21c0138696"
      },
      "outputs": [
        {
          "output_type": "stream",
          "name": "stderr",
          "text": [
            "/usr/local/lib/python3.10/dist-packages/ipykernel/ipkernel.py:283: DeprecationWarning: `should_run_async` will not call `transform_cell` automatically in the future. Please pass the result to `transformed_cell` argument and any exception that happen during thetransform in `preprocessing_exc_tuple` in IPython 7.17 and above.\n",
            "  and should_run_async(code)\n"
          ]
        }
      ],
      "source": [
        "CS_DATA_M2_3_BUY1 = pd.read_csv(\"/content/drive/MyDrive/AfterLearnerProject/DataArchive/CS_DATA_M2_3_BUY1.csv\", index_col = False).fillna(0)\n",
        "CS_DATA_M2_3_BUY2 = pd.read_csv(\"/content/drive/MyDrive/AfterLearnerProject/DataArchive/CS_DATA_M2_3_BUY2.csv\", index_col = False).fillna(0)\n",
        "CS_DATA_M2_3_BUY3 = pd.read_csv(\"/content/drive/MyDrive/AfterLearnerProject/DataArchive/CS_DATA_M2_3_BUY3.csv\", index_col = False).fillna(0)\n",
        "CS_DATA_M2_3_SELL1 = pd.read_csv(\"/content/drive/MyDrive/AfterLearnerProject/DataArchive/CS_DATA_M2_3_SELL1.csv\", index_col = False).fillna(0)\n",
        "CS_DATA_M2_3_SELL2 = pd.read_csv(\"/content/drive/MyDrive/AfterLearnerProject/DataArchive/CS_DATA_M2_3_SELL2.csv\", index_col = False).fillna(0)\n",
        "CS_DATA_M2_3_SELL3 = pd.read_csv(\"/content/drive/MyDrive/AfterLearnerProject/DataArchive/CS_DATA_M2_3_SELL3.csv\", index_col = False).fillna(0)"
      ]
    },
    {
      "cell_type": "code",
      "source": [
        "CS_DATA_M3_1_BUY1 = pd.read_csv(\"/content/drive/MyDrive/AfterLearnerProject/DataArchive/CS_DATA_M3_1_BUY1.csv\", index_col = False).fillna(0)\n",
        "CS_DATA_M3_1_BUY2 = pd.read_csv(\"/content/drive/MyDrive/AfterLearnerProject/DataArchive/CS_DATA_M3_1_BUY2.csv\", index_col = False).fillna(0)\n",
        "CS_DATA_M3_1_BUY3 = pd.read_csv(\"/content/drive/MyDrive/AfterLearnerProject/DataArchive/CS_DATA_M3_1_BUY3.csv\", index_col = False).fillna(0)\n",
        "CS_DATA_M3_1_SELL1 = pd.read_csv(\"/content/drive/MyDrive/AfterLearnerProject/DataArchive/CS_DATA_M3_1_SELL1.csv\", index_col = False).fillna(0)\n",
        "CS_DATA_M3_1_SELL2 = pd.read_csv(\"/content/drive/MyDrive/AfterLearnerProject/DataArchive/CS_DATA_M3_1_SELL2.csv\", index_col = False).fillna(0)\n",
        "CS_DATA_M3_1_SELL3 = pd.read_csv(\"/content/drive/MyDrive/AfterLearnerProject/DataArchive/CS_DATA_M3_1_SELL3.csv\", index_col = False).fillna(0)"
      ],
      "metadata": {
        "colab": {
          "base_uri": "https://localhost:8080/"
        },
        "id": "AIw_rbTLkE5W",
        "outputId": "e3652cfd-0bf1-43b4-f6f5-31e9aeb3f053"
      },
      "execution_count": 3,
      "outputs": [
        {
          "output_type": "stream",
          "name": "stderr",
          "text": [
            "/usr/local/lib/python3.10/dist-packages/ipykernel/ipkernel.py:283: DeprecationWarning: `should_run_async` will not call `transform_cell` automatically in the future. Please pass the result to `transformed_cell` argument and any exception that happen during thetransform in `preprocessing_exc_tuple` in IPython 7.17 and above.\n",
            "  and should_run_async(code)\n"
          ]
        }
      ]
    },
    {
      "cell_type": "code",
      "source": [
        "CS_DATA_M4_2_BUY1 = pd.read_csv(\"/content/drive/MyDrive/AfterLearnerProject/DataArchive/CS_DATA_M4_2_BUY1.csv\", index_col = False).fillna(0)\n",
        "CS_DATA_M4_2_BUY2 = pd.read_csv(\"/content/drive/MyDrive/AfterLearnerProject/DataArchive/CS_DATA_M4_2_BUY2.csv\", index_col = False).fillna(0)\n",
        "CS_DATA_M4_2_BUY3 = pd.read_csv(\"/content/drive/MyDrive/AfterLearnerProject/DataArchive/CS_DATA_M4_2_BUY3.csv\", index_col = False).fillna(0)\n",
        "CS_DATA_M4_2_SELL1 = pd.read_csv(\"/content/drive/MyDrive/AfterLearnerProject/DataArchive/CS_DATA_M4_2_SELL1.csv\", index_col = False).fillna(0)\n",
        "CS_DATA_M4_2_SELL2 = pd.read_csv(\"/content/drive/MyDrive/AfterLearnerProject/DataArchive/CS_DATA_M4_2_SELL2.csv\", index_col = False).fillna(0)\n",
        "CS_DATA_M4_2_SELL3 = pd.read_csv(\"/content/drive/MyDrive/AfterLearnerProject/DataArchive/CS_DATA_M4_2_SELL3.csv\", index_col = False).fillna(0)"
      ],
      "metadata": {
        "colab": {
          "base_uri": "https://localhost:8080/"
        },
        "id": "Kcb1brHckExK",
        "outputId": "1f40027d-39af-4739-d573-baecbb61be56"
      },
      "execution_count": 4,
      "outputs": [
        {
          "output_type": "stream",
          "name": "stderr",
          "text": [
            "/usr/local/lib/python3.10/dist-packages/ipykernel/ipkernel.py:283: DeprecationWarning: `should_run_async` will not call `transform_cell` automatically in the future. Please pass the result to `transformed_cell` argument and any exception that happen during thetransform in `preprocessing_exc_tuple` in IPython 7.17 and above.\n",
            "  and should_run_async(code)\n"
          ]
        }
      ]
    },
    {
      "cell_type": "markdown",
      "source": [
        "```\n",
        "CONSUMER_ID = pd.merge(\n",
        "    CS_DATA_M2_3[\"고객번호\"], CS_DATA_M3_1[\"고객번호\"], how = \"inner\")\n",
        "CONSUMER_ID = pd.merge(\n",
        "    CS_DATA_M4_2[\"고객번호\"], CONSUMER_ID, how = \"inner\")\n",
        "\n",
        "for dataframe in [CS_DATA_M2_3, CS_DATA_M3_1, CS_DATA_M4_2]:\n",
        "    # 150446 | 194670 | 168290\n",
        "  print(len(dataframe))\n",
        "len(CONSUMER_ID)\n",
        "  # 91024\n",
        "```"
      ],
      "metadata": {
        "id": "JZmdKZxBlIO2"
      }
    },
    {
      "cell_type": "code",
      "source": [
        "pd.set_option(\"display.max_column\", None)\n",
        "CS_DATA_M2_3_BUY1.info()"
      ],
      "metadata": {
        "colab": {
          "base_uri": "https://localhost:8080/"
        },
        "id": "9y8csiNEt_Em",
        "outputId": "7d69800b-d475-49dc-814f-f29844664983"
      },
      "execution_count": 5,
      "outputs": [
        {
          "output_type": "stream",
          "name": "stderr",
          "text": [
            "/usr/local/lib/python3.10/dist-packages/ipykernel/ipkernel.py:283: DeprecationWarning: `should_run_async` will not call `transform_cell` automatically in the future. Please pass the result to `transformed_cell` argument and any exception that happen during thetransform in `preprocessing_exc_tuple` in IPython 7.17 and above.\n",
            "  and should_run_async(code)\n"
          ]
        },
        {
          "output_type": "stream",
          "name": "stdout",
          "text": [
            "<class 'pandas.core.frame.DataFrame'>\n",
            "RangeIndex: 150446 entries, 0 to 150445\n",
            "Data columns (total 57 columns):\n",
            " #   Column                           Non-Null Count   Dtype  \n",
            "---  ------                           --------------   -----  \n",
            " 0   월말일 기준 예수금 등 현금성 자산액             150446 non-null  float64\n",
            " 1   월말일 기준 국내주식 자산 평가액               150446 non-null  float64\n",
            " 2   월말일 기준 국내주식 자산 매입액               150446 non-null  float64\n",
            " 3   월말일 기준 해외주식 자산 평가액               150446 non-null  float64\n",
            " 4   월말일 기준 해외주식 자산 매입액               150446 non-null  float64\n",
            " 5   월말일 기준 국내주식 보유종목수                150446 non-null  float64\n",
            " 6   월말일 기준 해외주식 보유종목수                150446 non-null  float64\n",
            " 7   특정기간동안의 주식 매수체결횟수                150446 non-null  float64\n",
            " 8   특정기간동안의 주식 매도체결횟수                150446 non-null  float64\n",
            " 9   특정기간동안의 주식 매수종목수                 150446 non-null  float64\n",
            " 10  특정기간동안의 주식 매도종목수                 150446 non-null  float64\n",
            " 11  특정기간동안의 주식 매수액 합계                150446 non-null  float64\n",
            " 12  특정기간동안의 주식 매도액 합계                150446 non-null  float64\n",
            " 13  특정기간동안의 주식 입고액 합계                150446 non-null  float64\n",
            " 14  특정기간동안의 주식 출고액 합계                150446 non-null  float64\n",
            " 15  특정기간동안의 입금액 합계                   150446 non-null  float64\n",
            " 16  특정기간동안의 출금액 합계                   150446 non-null  float64\n",
            " 17  특정기간동안의 HTS 또는 MTS 접속일수          150446 non-null  float64\n",
            " 18  특정기간동안의 MTS 접속일수                 150446 non-null  float64\n",
            " 19  특정기간동안의 HTS 접속일수                 150446 non-null  float64\n",
            " 20  특정기간동안의 주식매수액 1위 종목번호            150446 non-null  object \n",
            " 21  특정기간동안의 주식매수액 2위 종목번호            150446 non-null  object \n",
            " 22  특정기간동안의 주식매수액 3위 종목번호            150446 non-null  object \n",
            " 23  특정기간동안의 주식매도액 1위 종목번호            150446 non-null  object \n",
            " 24  특정기간동안의 주식매도액 2위 종목번호            150446 non-null  object \n",
            " 25  특정기간동안의 주식매도액 3위 종목번호            150446 non-null  object \n",
            " 26  특정기간동안의 주식매수액 1위 종목매수액 합계        150446 non-null  float64\n",
            " 27  특정기간동안의 주식매수액 2위 종목매수액 합계        150446 non-null  float64\n",
            " 28  특정기간동안의 주식매수액 3위 종목매수액 합계        150446 non-null  float64\n",
            " 29  특정기간동안의 주식매도액 1위 종목매수액 합계        150446 non-null  float64\n",
            " 30  특정기간동안의 주식매도액 2위 종목매수액 합계        150446 non-null  float64\n",
            " 31  특정기간동안의 주식매도액 3위 종목매수액 합계        150446 non-null  float64\n",
            " 32  10세 기준 연령대                       150446 non-null  int64  \n",
            " 33  관리사원 존재여부                        150446 non-null  object \n",
            " 34  과거 최고자산액                         150446 non-null  float64\n",
            " 35  과거 최고자산액 기록 연월                   150446 non-null  int64  \n",
            " 36  이전6개월 매도액 중 당일매수매도발생 매도액비중       150446 non-null  float64\n",
            " 37  이전6개월 매도액 중 매수 후 5일 이내 매도액비중     150446 non-null  float64\n",
            " 38  이전6개월 매도액 중 매수 후 30일 이내 매도액비중    150446 non-null  float64\n",
            " 39  이전6개월 매도액 중 매수 후 180일 이내 매도액비중   150446 non-null  float64\n",
            " 40  이전6개월 매도액 중 매수 후 1년 이내 매도액비중     150446 non-null  float64\n",
            " 41  이전6개월 매도액 중 매수 후 2년 이후 이내 매도액비중  150446 non-null  float64\n",
            " 42  이전3년간 공모주 청약에 참여한 종목수            150446 non-null  float64\n",
            " 43  이전3년간 마지막으로 참여한 공모주 청약연월         150446 non-null  float64\n",
            " 44  고객번호                             150446 non-null  int64  \n",
            " 45  3개월간 주식 매수액 합계                   150446 non-null  float64\n",
            " 46  3개월간 주식 매도액 합계                   150446 non-null  float64\n",
            " 47  3개월간 주식 매수종목수 합계                 150446 non-null  float64\n",
            " 48  3개월간 주식 매도종목수 합계                 150446 non-null  float64\n",
            " 49  종목명                              150446 non-null  object \n",
            " 50  BPS                              150446 non-null  float64\n",
            " 51  PER                              150446 non-null  float64\n",
            " 52  PBR                              150446 non-null  float64\n",
            " 53  EPS                              150446 non-null  float64\n",
            " 54  DIV                              150446 non-null  float64\n",
            " 55  DPS                              150446 non-null  float64\n",
            " 56  SEC_NM_KOR                       150446 non-null  object \n",
            "dtypes: float64(45), int64(3), object(9)\n",
            "memory usage: 65.4+ MB\n"
          ]
        }
      ]
    },
    {
      "cell_type": "markdown",
      "source": [
        "* 투자심리지수 파생컬럼\n",
        "\n",
        "0) **10세 기준 연령대, 관리사원 존재여부**\n",
        "\n",
        "1) **전환율(CTR)**\n",
        "\n",
        "    매수전환율 = 매수체결횟수 / 접속일수\n",
        "    \n",
        "    매도전환율 = 매도체결횟수 / 접속일수\n",
        "\n",
        "* CONN_DYS < MTS_DYS + HTS_DYS\n",
        "* 특정기간동안의 HTS 또는 MTS 접속일수\n",
        "\n",
        "2) **최고자산 대비 등락률**\n",
        "\n",
        "    {(월말일 기준 예수금 등 현금성 자산액 + 월말일 기준 국내주식 자산 평가액 + 월말일 기준 해외주식 자산 평가액) - (과거 최고자산액)} / (과거 최고자산액) * 100\n",
        "\n",
        "    특이 시점 - 과거 최고자산액 기록 연월\n",
        "\n",
        "3) **거래회전율 = 1월부터 3월까지 총 거래량 / 특정기간동안의 거래량**\n",
        "  \n",
        "    주식매수대금회전율 = 3개월간 주식 매수액 합계 / 특정기간동안의 주식 매수액 합계\n",
        "\n",
        "    주식매도대금회전율 = 3개월간 주식 매도액 합계 / 특정기간동안의 주식 매도액 합계\n",
        "    \n",
        "    주식매수량회전율 = 3개월간 주식 매수종목수 합계 / 특정기간동안의 주식 매수종목수 합계\n",
        "    \n",
        "    주식매도량회전율 = 3개월간 주식 매도종목수 합계 / 특정기간동안의 주식 매도종목수 합계\n",
        "\n",
        "4) **주식수익률**\n",
        "\n",
        "    국내주식수익률 = 월말일 기준 국내주식 자산 평가액 / 월말일 기준 국내주식 자산 매입액\n",
        "    해외주식수익률 = 월말일 기준 국내주식 자산 평가액 / 월말일 기준 국내주식 자산 매입액\n",
        "\n",
        "\n",
        "5) **매수매도 불균형(IBSI)**\n",
        "\n",
        "    매수매도불균형 = 특정기간동안의 주식 매수액 합계 / 특정기간동안의 주식 매도액 합계\n",
        "\n",
        "6) **대체입출고비중[타 증권사 주식이체]  >= 50%**\n",
        "    \n",
        "    유가증권대체입고[진입율] = (특정기간동안의 주식 입고액 합계 + 특정기간동안의 입금액 합계) / (월말일 기준 예수금 등 현금성 자산액 + 월말일 기준 국내주식 자산 평가액)\n",
        "\n",
        "    유가증권대체출고[이탈률] = (특정기간동안의 주식 출고액 합계 + 특정기간동안의 출금액 합계) / (월말일 기준 예수금 등 현금성 자산액 + 월말일 기준 국내주식 자산 평가액)\n",
        "    \n"
      ],
      "metadata": {
        "id": "1LaP1qbBxcX-"
      }
    },
    {
      "cell_type": "code",
      "source": [
        "CS_DATA_M2_3[\"거래회전율\"]\n",
        "CS_DATA_M2_3[\"주식수익률\"]\n",
        "CS_DATA_M2_3[\"거래회전율\"]\n",
        "\n",
        "\n",
        "\n"
      ],
      "metadata": {
        "id": "n8MN8tw-vuxD"
      },
      "execution_count": null,
      "outputs": []
    }
  ]
}